{
 "cells": [
  {
   "cell_type": "markdown",
   "id": "e05a3560",
   "metadata": {},
   "source": [
    "# Python Basic Questions\n",
    "###### Q1)What is Python, and why is it popular ?\n",
    "Python is a high-level, interpreted programming languageand popular because of its simplicity, readability, and versatility, which has used in software development, data science, web applications, automation, and machine learning\n",
    "###### Q2) What is an interpreter in Python ?\n",
    "An interpreter in Python is a program that reads, processes, and executes Python code line by line.\n",
    "###### Q3) What are pre-defined keywords in Python?\n",
    "Pre-defined keywords in Python are reserved words that have special meaning.\n",
    "example:print,def,True,if etc.\n",
    "###### Q4)Can keywords be used as variable names?\n",
    "NO\n",
    "###### Q5)What is mutability in Python ?\n",
    "Mutability in Python refers to whether an object’s value or state can be changed after it has been created without changing its identity\n",
    "example:list,set,dict.\n",
    "###### Q6)Why are lists mutable, but tuples are immutable?\n",
    "Lists are mutable in Python, meaning their contents can be changed, added, or removed after creation. Tuples, however, are immutable, so once created, their contents cannot be altered\n",
    "###### Q7) What is the difference between “==” and “is” operators in Python ?\n",
    "the == operator in Python checks if the values of two objects are equal where as \"is\" operator checks if two variables point to the same object in memory.\n",
    "###### Q8) What are logical operators in Python?\n",
    "Logical operators in Python are used to combine conditional statements and return Boolean results\n",
    "they are and,or,not.\n",
    "###### Q9)What is type casting in Python ?\n",
    "the process of converting a variable from one data type to another it can be implicit as well as explicit.\n",
    "###### Q10)What is the difference between implicit and explicit type casting ?\n",
    "implicit, where Python automatically converts types where in explicit, where the programmer manually converts using functions like int(), float(), or str().\n",
    "###### Q11)What is the purpose of conditional statements in Python?\n",
    "control the flow of a program by executing certain blocks of code only when specific conditions are true.\n",
    "###### Q12)How does the elif statement work?\n",
    "used to check multiple conditions sequentially. If the initial if condition is false.\n",
    "###### Q13)What is the difference between for and while loops?\n",
    "a for loop is used when the number of iterations is known or finite, typically iterating over a sequence or range. In contrast, a while loop runs as long as a given condition is true and is used when the number of iterations is unknown or depends on dynamic conditions. \n",
    "###### Q14)Describe a scenario where a while loop is more suitable than a for loop?\n",
    "For loops are generally more efficient and readable for fixed iterations, while while loops offer more flexibility for condition based repetition."
   ]
  },
  {
   "cell_type": "markdown",
   "id": "10905838",
   "metadata": {},
   "source": [
    "# Practical Questions"
   ]
  },
  {
   "cell_type": "markdown",
   "id": "4646f1a2",
   "metadata": {},
   "source": [
    "##### Q1)Write a Python program to print \"Hello, World!\""
   ]
  },
  {
   "cell_type": "code",
   "execution_count": 1,
   "id": "1b89f40b",
   "metadata": {},
   "outputs": [
    {
     "name": "stdout",
     "output_type": "stream",
     "text": [
      "Hello, World!\n"
     ]
    }
   ],
   "source": [
    "print(\"Hello, World!\")"
   ]
  },
  {
   "cell_type": "markdown",
   "id": "76bcd794",
   "metadata": {},
   "source": [
    "###### Q2)Write a Python program that displays your name and age"
   ]
  },
  {
   "cell_type": "code",
   "execution_count": 2,
   "id": "7abf4bd1",
   "metadata": {},
   "outputs": [
    {
     "name": "stdout",
     "output_type": "stream",
     "text": [
      "Bibek 22\n"
     ]
    }
   ],
   "source": [
    "name=\"Bibek\"\n",
    "age=22\n",
    "print(name,age)"
   ]
  },
  {
   "cell_type": "markdown",
   "id": "2da1d215",
   "metadata": {},
   "source": [
    "###### Q3)Write code to print all the pre-defined keywords in Python using the keyword library8"
   ]
  },
  {
   "cell_type": "code",
   "execution_count": 3,
   "id": "568bda87",
   "metadata": {},
   "outputs": [
    {
     "name": "stdout",
     "output_type": "stream",
     "text": [
      "\n",
      "Here is a list of the Python keywords.  Enter any keyword to get more help.\n",
      "\n",
      "False               class               from                or\n",
      "None                continue            global              pass\n",
      "True                def                 if                  raise\n",
      "and                 del                 import              return\n",
      "as                  elif                in                  try\n",
      "assert              else                is                  while\n",
      "async               except              lambda              with\n",
      "await               finally             nonlocal            yield\n",
      "break               for                 not                 \n",
      "\n"
     ]
    }
   ],
   "source": [
    "help(\"keywords\")"
   ]
  },
  {
   "cell_type": "markdown",
   "id": "2f5a8855",
   "metadata": {},
   "source": [
    "###### Q4)Write a program that checks if a given word is a Python keyword."
   ]
  },
  {
   "cell_type": "code",
   "execution_count": 4,
   "id": "3c7e4930",
   "metadata": {},
   "outputs": [
    {
     "name": "stdout",
     "output_type": "stream",
     "text": [
      "is\n",
      "its a keyword\n"
     ]
    }
   ],
   "source": [
    "import keyword\n",
    "word=input()\n",
    "if word in keyword.kwlist:\n",
    "    print(\"its a keyword\")\n",
    "else:\n",
    "    print(\"its not a keyword\")"
   ]
  },
  {
   "cell_type": "markdown",
   "id": "2cc34761",
   "metadata": {},
   "source": [
    "###### Q5) Create a list and tuple in Python, and demonstrate how attempting to change an element works differently for each"
   ]
  },
  {
   "cell_type": "code",
   "execution_count": 5,
   "id": "bc20df0e",
   "metadata": {},
   "outputs": [],
   "source": [
    "# Create list and tuple\n",
    "my_list = [1, 2, 3]\n",
    "my_tuple = (1, 2, 3)\n",
    "\n",
    "# Modify list element (works)\n",
    "my_list[0] = 10"
   ]
  },
  {
   "cell_type": "code",
   "execution_count": 6,
   "id": "18e2234b",
   "metadata": {},
   "outputs": [
    {
     "name": "stdout",
     "output_type": "stream",
     "text": [
      "List after modification: [10, 2, 3]\n"
     ]
    }
   ],
   "source": [
    "# Attempt to modify tuple element (raises error)\n",
    "## my_tuple[0] = 10\n",
    "print(\"List after modification:\", my_list)"
   ]
  },
  {
   "cell_type": "markdown",
   "id": "9e234890",
   "metadata": {},
   "source": [
    "###### Q6)Write a function to demonstrate the behavior of mutable and immutable arguments."
   ]
  },
  {
   "cell_type": "code",
   "execution_count": 7,
   "id": "d547be8d",
   "metadata": {},
   "outputs": [
    {
     "name": "stdout",
     "output_type": "stream",
     "text": [
      "Inside: [1, 2, 3, 10] 15\n",
      "Outside: [1, 2, 3, 10] 5\n"
     ]
    }
   ],
   "source": [
    "def demo(mutable_list, immutable_num):\n",
    "    mutable_list.append(10)     # Changes original list\n",
    "    immutable_num += 10         # Creates new int, original unchanged\n",
    "    print(\"Inside:\", mutable_list, immutable_num)\n",
    "\n",
    "lst = [1, 2, 3]\n",
    "num = 5\n",
    "demo(lst, num)\n",
    "\n",
    "print(\"Outside:\", lst, num)\n"
   ]
  },
  {
   "cell_type": "markdown",
   "id": "dd528a07",
   "metadata": {},
   "source": [
    "###### Q7)Write a program that performs basic arithmetic operations on two user-input numbers."
   ]
  },
  {
   "cell_type": "code",
   "execution_count": 8,
   "id": "a5193573",
   "metadata": {},
   "outputs": [
    {
     "name": "stdout",
     "output_type": "stream",
     "text": [
      "Enter first number: 12\n",
      "Enter second number: 23\n",
      "Addition: 35.0\n",
      "Subtraction: -11.0\n",
      "Multiplication: 276.0\n",
      "Division: 0.5217391304347826\n"
     ]
    }
   ],
   "source": [
    "num1 = float(input(\"Enter first number: \"))\n",
    "num2 = float(input(\"Enter second number: \"))\n",
    "#arithmetic operations\n",
    "print(\"Addition:\", num1 + num2)\n",
    "print(\"Subtraction:\", num1 - num2)\n",
    "print(\"Multiplication:\", num1 * num2)\n",
    "print(\"Division:\", num1 / num2 if num2 != 0 else \"Cannot divide by zero\")"
   ]
  },
  {
   "cell_type": "markdown",
   "id": "1b2a7a44",
   "metadata": {},
   "source": [
    "###### Q8)Write a program to demonstrate the use of logical operators"
   ]
  },
  {
   "cell_type": "code",
   "execution_count": 9,
   "id": "4874dbc5",
   "metadata": {},
   "outputs": [
    {
     "name": "stdout",
     "output_type": "stream",
     "text": [
      "Enter True or False for a: True\n",
      "Enter True or False for b: False\n",
      "a and b: False\n",
      "a or b: True\n",
      "not a: False\n"
     ]
    }
   ],
   "source": [
    "a = input(\"Enter True or False for a: \") == \"True\"\n",
    "b = input(\"Enter True or False for b: \") == \"True\"\n",
    "\n",
    "# logical operators\n",
    "print(\"a and b:\", a and b)\n",
    "print(\"a or b:\", a or b)\n",
    "print(\"not a:\", not a)"
   ]
  },
  {
   "cell_type": "markdown",
   "id": "1b52f766",
   "metadata": {},
   "source": [
    "###### Q9)Write a Python program to convert user input from string to integer, float, and boolean types"
   ]
  },
  {
   "cell_type": "code",
   "execution_count": 10,
   "id": "40aa087e",
   "metadata": {},
   "outputs": [
    {
     "name": "stdout",
     "output_type": "stream",
     "text": [
      "Enter a value: 34\n",
      "As integer: 34\n",
      "As float: 34.0\n",
      "As boolean: True\n"
     ]
    }
   ],
   "source": [
    "user_input = input(\"Enter a value: \")\n",
    "\n",
    "int_val = int(user_input)\n",
    "float_val = float(user_input)\n",
    "bool_val = bool(user_input)\n",
    "\n",
    "print(\"As integer:\", int_val)\n",
    "print(\"As float:\", float_val)\n",
    "print(\"As boolean:\", bool_val)"
   ]
  },
  {
   "cell_type": "markdown",
   "id": "ba4c6233",
   "metadata": {},
   "source": [
    "###### Q10)Write code to demonstrate type casting with list elements."
   ]
  },
  {
   "cell_type": "code",
   "execution_count": 12,
   "id": "fe4dfd19",
   "metadata": {},
   "outputs": [
    {
     "name": "stdout",
     "output_type": "stream",
     "text": [
      "[10, 20, 30]\n"
     ]
    }
   ],
   "source": [
    "str_list = ['10', '20', '30']\n",
    "new_list = []\n",
    "\n",
    "for item in str_list:\n",
    "    new_list.append(int(item))\n",
    "\n",
    "print(new_list)"
   ]
  },
  {
   "cell_type": "markdown",
   "id": "ece2c569",
   "metadata": {},
   "source": [
    "###### Q11) Write a program that checks if a number is positive, negative, or zero."
   ]
  },
  {
   "cell_type": "code",
   "execution_count": 14,
   "id": "30603976",
   "metadata": {},
   "outputs": [
    {
     "name": "stdout",
     "output_type": "stream",
     "text": [
      "write a number: -89\n",
      "negetive\n"
     ]
    }
   ],
   "source": [
    "number=float(input(\"write a number: \"))\n",
    "if number==0:\n",
    "    print(\"zero\")\n",
    "elif number>0:\n",
    "    print(\"posetive\")\n",
    "else:\n",
    "    print(\"negetive\")"
   ]
  },
  {
   "cell_type": "markdown",
   "id": "9fd084b5",
   "metadata": {},
   "source": [
    "###### Q12)Write a for loop to print numbers from 1 to 10."
   ]
  },
  {
   "cell_type": "code",
   "execution_count": 15,
   "id": "b562a7e6",
   "metadata": {},
   "outputs": [
    {
     "name": "stdout",
     "output_type": "stream",
     "text": [
      "1 2 3 4 5 6 7 8 9 10 "
     ]
    }
   ],
   "source": [
    "for i in range(1,11):\n",
    "    print(i,end=\" \")"
   ]
  },
  {
   "cell_type": "markdown",
   "id": "a9552d46",
   "metadata": {},
   "source": [
    "###### Q13)Write a Python program to find the sum of all even numbers between 1 and 50."
   ]
  },
  {
   "cell_type": "code",
   "execution_count": 16,
   "id": "7112ec4b",
   "metadata": {},
   "outputs": [
    {
     "name": "stdout",
     "output_type": "stream",
     "text": [
      "1275\n"
     ]
    }
   ],
   "source": [
    "sum1=0\n",
    "for i in range(1,51):\n",
    "    sum1=sum1+i\n",
    "print(sum1)"
   ]
  },
  {
   "cell_type": "markdown",
   "id": "413c7a2b",
   "metadata": {},
   "source": [
    "###### Q14)Write a program to reverse a string using a while loop."
   ]
  },
  {
   "cell_type": "code",
   "execution_count": 17,
   "id": "9377c5c1",
   "metadata": {},
   "outputs": [
    {
     "name": "stdout",
     "output_type": "stream",
     "text": [
      "Enter a string: Bibek\n",
      "Reversed string: kebiB\n"
     ]
    }
   ],
   "source": [
    "s = input(\"Enter a string: \")\n",
    "reversed_str = \"\"\n",
    "index = len(s) - 1\n",
    "\n",
    "while index >= 0:\n",
    "    reversed_str += s[index]\n",
    "    index -= 1\n",
    "\n",
    "print(\"Reversed string:\", reversed_str)"
   ]
  },
  {
   "cell_type": "markdown",
   "id": "776b6c41",
   "metadata": {},
   "source": [
    "###### Q15)Write a Python program to calculate the factorial of a number provided by the user using a while loop"
   ]
  },
  {
   "cell_type": "code",
   "execution_count": 26,
   "id": "779b0d63",
   "metadata": {},
   "outputs": [
    {
     "name": "stdout",
     "output_type": "stream",
     "text": [
      "enter  a number: 8\n",
      "factorial  is:  40320\n"
     ]
    }
   ],
   "source": [
    "n=int(input(\"enter  a number: \"))\n",
    "fact=1\n",
    "i=1\n",
    "while i<=n:\n",
    "    fact=i*fact\n",
    "    i+=1\n",
    "print(\"factorial  is: \",fact)"
   ]
  },
  {
   "cell_type": "code",
   "execution_count": null,
   "id": "149594f8",
   "metadata": {},
   "outputs": [],
   "source": []
  },
  {
   "cell_type": "code",
   "execution_count": null,
   "id": "7bdd288b",
   "metadata": {},
   "outputs": [],
   "source": []
  }
 ],
 "metadata": {
  "kernelspec": {
   "display_name": "Python 3 (ipykernel)",
   "language": "python",
   "name": "python3"
  },
  "language_info": {
   "codemirror_mode": {
    "name": "ipython",
    "version": 3
   },
   "file_extension": ".py",
   "mimetype": "text/x-python",
   "name": "python",
   "nbconvert_exporter": "python",
   "pygments_lexer": "ipython3",
   "version": "3.11.4"
  }
 },
 "nbformat": 4,
 "nbformat_minor": 5
}
